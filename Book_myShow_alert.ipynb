{
 "cells": [
  {
   "attachments": {},
   "cell_type": "markdown",
   "metadata": {},
   "source": [
    "Hi, playing around with whatsapp automation and scraping,\n",
    "tried to send watsapp alerts to friend's number when the booking for Spiderman movie opens. \n",
    "\n",
    "P.S - Sorry, only focused on getting the job done, whilst making this script time constraints. \n",
    "</br> We can make impvoements like, parametrising the movie url, requested slot date, user number prompts, run it in background & may tie it up in streamlit UI--- stuff like that."
   ]
  },
  {
   "cell_type": "code",
   "execution_count": 1,
   "metadata": {},
   "outputs": [],
   "source": [
    "import os\n",
    "import selenium\n",
    "from selenium import webdriver\n",
    "import time\n",
    "from PIL import Image\n",
    "import io\n",
    "import requests\n",
    "from webdriver_manager.chrome import ChromeDriverManager\n",
    "from selenium.common.exceptions import ElementClickInterceptedException\n",
    "import pywhatkit"
   ]
  },
  {
   "cell_type": "code",
   "execution_count": 2,
   "metadata": {},
   "outputs": [
    {
     "name": "stderr",
     "output_type": "stream",
     "text": [
      "\n",
      "\n",
      "====== WebDriver manager ======\n",
      "Current google-chrome version is 96.0.4664\n",
      "Get LATEST chromedriver version for 96.0.4664 google-chrome\n",
      "Driver [C:\\Users\\bikky\\.wdm\\drivers\\chromedriver\\win32\\96.0.4664.45\\chromedriver.exe] found in cache\n"
     ]
    }
   ],
   "source": [
    "#Install Driver\n",
    "driver = webdriver.Chrome(ChromeDriverManager().install())"
   ]
  },
  {
   "cell_type": "code",
   "execution_count": 3,
   "metadata": {},
   "outputs": [],
   "source": [
    "\n",
    "def get_it(): \n",
    "    #Specify Search URL \n",
    "\n",
    "    search_url = \"https://in.bookmyshow.com/buytickets/spider-chennai/movie-chen-ET00319200-MT/20211216\"\n",
    "    # search_url = \"https://in.bookmyshow.com/buytickets/velle-chennai/movie-chen-ET00317402-MT/20211213\"\n",
    "    driver.get(search_url)\n",
    "\n",
    "    cls_name = r\"slick-track\"\n",
    "    cls_box = driver.find_element_by_xpath(\"(//*[contains(@class, 'slick-track')])\")\n",
    "\n",
    "    x = cls_box.text.split(\"\\n\")\n",
    "    print(x)\n",
    "    return x\n",
    "\n",
    "def show_it(x):\n",
    "    y = \"\"\n",
    "    for i in range(0,len(x),2):\n",
    "        print(i)\n",
    "        y = \"\\n\" + \"open for \"+ x[i] + \" on \" + x[i+1]\n",
    "        print(y)\n",
    "    return y\n",
    "\n",
    "def send_msg(w, H, M):\n",
    "    ur_number = 'place the phone number here'\n",
    "    pywhatkit.sendwhatmsg(ur_number, w, H, M, 35, True, 2)"
   ]
  },
  {
   "cell_type": "code",
   "execution_count": 4,
   "metadata": {},
   "outputs": [
    {
     "name": "stdout",
     "output_type": "stream",
     "text": [
      "01   22\n"
     ]
    }
   ],
   "source": [
    "timestamp = time.strftime('%H:%M')\n",
    "H, M = timestamp.split(\":\")\n",
    "print(H, \" \",M)"
   ]
  },
  {
   "cell_type": "code",
   "execution_count": 5,
   "metadata": {},
   "outputs": [
    {
     "name": "stdout",
     "output_type": "stream",
     "text": [
      "['16', 'THU']\n",
      "0\n",
      "\n",
      "open for 16 on THU\n",
      "In 111 Seconds WhatsApp will open and after 35 Seconds Message will be Delivered!\n"
     ]
    }
   ],
   "source": [
    "while 1:\n",
    "    \n",
    "    r = get_it()\n",
    "    if('19' in r):\n",
    "        send_msg(\"Booking Open...Let's GO\")\n",
    "        exit()\n",
    "    else:\n",
    "        \n",
    "        h, m =  time.strftime('%H:%M').split(\":\")\n",
    "        msg_recipe = show_it(r)\n",
    "        send_msg(msg_recipe, int(h), int(m)+3)\n",
    "        time.sleep(10800)\n",
    "\n",
    "    "
   ]
  }
 ],
 "metadata": {
  "interpreter": {
   "hash": "a3f7d9f6c93655760e4fe02bbe261952b9ac5e5640d2f5425a0af87544b05d7c"
  },
  "kernelspec": {
   "display_name": "Python 3.6.13 64-bit",
   "name": "python3"
  },
  "language_info": {
   "codemirror_mode": {
    "name": "ipython",
    "version": 3
   },
   "file_extension": ".py",
   "mimetype": "text/x-python",
   "name": "python",
   "nbconvert_exporter": "python",
   "pygments_lexer": "ipython3",
   "version": "3.6.13"
  },
  "orig_nbformat": 4
 },
 "nbformat": 4,
 "nbformat_minor": 2
}
